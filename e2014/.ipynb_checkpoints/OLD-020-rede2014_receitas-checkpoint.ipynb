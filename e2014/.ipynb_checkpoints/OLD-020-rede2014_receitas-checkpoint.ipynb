{
 "cells": [
  {
   "cell_type": "markdown",
   "metadata": {},
   "source": [
    "#   RECEITAS 2014\n",
    "### Contêm as receitas de candidatos em 2014, comitês e partidos obtidos \n",
    "### em http://www.tse.jus.br/eleicoes/estatisticas/repositorio-de-dados-eleitorais \n",
    "### http://www.tse.jus.br/eleicoes/eleicoes-2018/divulgacandcontas#/estados/2014/680/BR/candidatos\n"
   ]
  },
  {
   "cell_type": "code",
   "execution_count": 1,
   "metadata": {},
   "outputs": [],
   "source": [
    "ano_eleicao = '2014'\n",
    "dbschema = f'rede{ano_eleicao}'\n",
    "table_receitas = f'{dbschema}.receitas_{ano_eleicao}'\n",
    "table_receitas_candidatos = f'tse2014.receitas_candidatos_{ano_eleicao}'\n",
    "table_consulta_cand = f'tse2014.consulta_cand_{ano_eleicao}'\n",
    "table_receitas_comites = f'tse2014.receitas_comites_{ano_eleicao}'\n",
    "table_receitas_partidos = f'tse2014.receitas_partidos_{ano_eleicao}'"
   ]
  },
  {
   "cell_type": "code",
   "execution_count": 2,
   "metadata": {},
   "outputs": [],
   "source": [
    "import os\n",
    "import sys\n",
    "sys.path.append('../')\n",
    "import mod_tse as mtse\n",
    "home = os.environ[\"HOME\"]\n"
   ]
  },
  {
   "cell_type": "code",
   "execution_count": 3,
   "metadata": {},
   "outputs": [],
   "source": [
    "mtse.execute_query(f'CREATE SCHEMA IF NOT EXISTS {dbschema};')"
   ]
  },
  {
   "cell_type": "markdown",
   "metadata": {},
   "source": [
    "Define uma estrutura de tabela para representar receitas_2014 no banco de dados"
   ]
  },
  {
   "cell_type": "code",
   "execution_count": null,
   "metadata": {
    "collapsed": false,
    "jupyter": {
     "outputs_hidden": false
    }
   },
   "outputs": [],
   "source": [
    "query_create_table_receitas_2014 = f\"\"\"\n",
    "DROP TABLE IF EXISTS {table_receitas} CASCADE;\n",
    "create table {table_receitas}\n",
    "(\n",
    "    tp_registro varchar,\n",
    "    cod_eleicao varchar NULL,\n",
    "    desc_eleicao varchar NULL,\n",
    "    data_e_hora varchar NULL,\n",
    "    cnpj_prestador_conta varchar NULL,\n",
    "    sequencial varchar NULL,\n",
    "    uf varchar NULL,\n",
    "    tipo_comite_diretorio varchar,\n",
    "    sigla__partido varchar NULL,\n",
    "    tipo_do_documento varchar,\n",
    "    numero_candidato varchar NULL,\n",
    "    cargo varchar NULL,\n",
    "    nome_candidato varchar NULL,\n",
    "    cpf_do_candidato varchar NULL,\n",
    "    numero_recibo_eleitoral varchar NULL,\n",
    "    numero_do_documento varchar NULL,\n",
    "    cpf_cnpj_do_doador varchar NULL,\n",
    "    nome_do_doador varchar NULL,\n",
    "    nome_do_doador_receita_federal varchar NULL,\n",
    "    sigla_ue_doador varchar NULL,\n",
    "    numero_partido_doador varchar NULL,\n",
    "    numero_candidato_doador varchar NULL,\n",
    "    cod_setor_economico_do_doador varchar NULL,\n",
    "    setor_economico_do_doador varchar NULL,\n",
    "    data_da_receita varchar NULL,\n",
    "    valor_receita numeric(18,2),\n",
    "    tipo_receita varchar NULL,\n",
    "    fonte_recurso varchar NULL,\n",
    "    especie_recurso varchar NULL,\n",
    "    descricao_da_receita varchar NULL,\n",
    "    cpf_cnpj_do_doador_originario varchar NULL,\n",
    "    nome_do_doador_originario varchar NULL,\n",
    "    tipo_doador_originario varchar NULL,\n",
    "    setor_economico_do_doador_originario varchar NULL,\n",
    "    nome_do_doador_originario_receita_federal varchar NULL\n",
    ");\n",
    "\n",
    "DROP INDEX if exists receitas_sequencial_idx;\n",
    "CREATE  INDEX receitas_sequencial_idx ON {table_receitas} (sequencial);\n",
    "\n",
    "DROP INDEX if exists cpf_do_candidato_idx;\n",
    "CREATE  INDEX cpf_do_candidato_idx ON {table_receitas} (cpf_do_candidato);\n",
    "\n",
    "DROP INDEX if exists cnpj_prestador_conta_idx;\n",
    "CREATE  INDEX cnpj_prestador_conta_idx ON {table_receitas} (cnpj_prestador_conta);\n",
    "\n",
    "DROP INDEX if exists cpf_cnpj_do_doador_idx;\n",
    "CREATE  INDEX cpf_cnpj_do_doador_idx ON {table_receitas} (cpf_cnpj_do_doador);\n",
    "\n",
    "DROP INDEX if exists cpf_cnpj_do_doador_originario_idx;\n",
    "CREATE  INDEX cpf_cnpj_do_doador_originario_idx ON {table_receitas} (cpf_cnpj_do_doador_originario);\n",
    "\n",
    "\n",
    "\"\"\"\n",
    "\n",
    "mtse.execute_query(query_create_table_receitas_2014)\n",
    "print(\"OK\")\n"
   ]
  },
  {
   "cell_type": "markdown",
   "metadata": {},
   "source": [
    "Insere os dados de receitas de candidatos a partir da tabela receitas candidatos do TSE. Os registros são incluidos com código para indicar a origem da receita:\n",
    "- 'RC' para indicar receita de candidato de doador direto \n",
    "- 'RCDO' para indicar receita de candidato de doador originário"
   ]
  },
  {
   "cell_type": "code",
   "execution_count": null,
   "metadata": {
    "collapsed": false,
    "jupyter": {
     "outputs_hidden": false
    }
   },
   "outputs": [],
   "source": [
    "query_insert_receitas_candidatos = f\"\"\"\n",
    "insert into {table_receitas}\n",
    "select \n",
    "    'RC',\n",
    "    cod_eleicao,\n",
    "    desc_eleicao,\n",
    "    data_e_hora,\n",
    "    cnpj_prestador_conta,\n",
    "    sequencial_candidato,\n",
    "    uf,\n",
    "    '#NE',\n",
    "    sigla__partido,\n",
    "    '#NE',\n",
    "    numero_candidato,\n",
    "    cargo,\n",
    "    nome_candidato,\n",
    "    cpf_do_candidato,\n",
    "    numero_recibo_eleitoral,\n",
    "    numero_do_documento,\n",
    "    cpf_cnpj_do_doador,\n",
    "    nome_do_doador,\n",
    "    nome_do_doador_receita_federal,\n",
    "    sigla_ue_doador,\n",
    "    numero_partido_doador,\n",
    "    numero_candidato_doador,\n",
    "    cod_setor_economico_do_doador,\n",
    "    setor_economico_do_doador,\n",
    "    data_da_receita,\n",
    "    valor_receita::numeric,\n",
    "    tipo_receita,\n",
    "    fonte_recurso,\n",
    "    especie_recurso,\n",
    "    descricao_da_receita,\n",
    "    cpf_cnpj_do_doador_originario,\n",
    "    nome_do_doador_originario,\n",
    "    tipo_doador_originario,\n",
    "    setor_economico_do_doador_originario,\n",
    "    nome_do_doador_originario_receita_federal\n",
    "from {table_receitas_candidatos}\n",
    ";\n",
    "\n",
    "update {table_receitas} as r\n",
    "    set tp_registro = 'RCDO'\n",
    "where cpf_cnpj_do_doador_originario <> '#NULO'\n",
    "and tp_registro = 'RC'\n",
    ";\n",
    "\n",
    "update {table_receitas} as r\n",
    "    set tp_registro = 'ROPDO'\n",
    "where cpf_cnpj_do_doador_originario <> '#NULO'\n",
    "and tp_registro = 'ROP'\n",
    ";\n",
    "\n",
    "\"\"\"\n",
    "\n",
    "\n",
    "\n",
    "mtse.execute_query(query_insert_receitas_candidatos)\n",
    "print(\"OK\")\n"
   ]
  },
  {
   "cell_type": "markdown",
   "metadata": {},
   "source": [
    "### Atualiza coluna label_recebedor com nome de urna do candidato em consulta_cand_2014 usando o sequencial do candidato como chave de busca"
   ]
  },
  {
   "cell_type": "markdown",
   "metadata": {},
   "source": [
    "Insere os dados de receitas de comitês a partir da tabela receitas comites do TSE. Os registros são incluidos com código para indicar a origem da receita:\n",
    "- 'RC'   para indicar receita de comitê de doador direto \n",
    "- 'RCDO' para indicar receita de comitê de doador originário"
   ]
  },
  {
   "cell_type": "code",
   "execution_count": null,
   "metadata": {
    "collapsed": false,
    "jupyter": {
     "outputs_hidden": false
    }
   },
   "outputs": [],
   "source": [
    "query_insert_receitas_comites = f\"\"\"\n",
    "insert into {table_receitas}\n",
    "select \n",
    "    'ROP',\n",
    "    cod_eleicao,\n",
    "    desc_eleicao,\n",
    "    data_e_hora,\n",
    "    cnpj_prestador_conta,\n",
    "    sequencial_comite,\n",
    "    uf,\n",
    "    tipo_comite,\n",
    "    sigla__partido,\n",
    "    tipo_do_documento,\n",
    "    '#NE',\n",
    "    '#NE',\n",
    "    '#NE',\n",
    "    '#NE',\n",
    "    '#NE',\n",
    "    numero_do_documento,\n",
    "    cpf_cnpj_do_doador,\n",
    "    nome_do_doador,\n",
    "    nome_do_doador_receita_federal,\n",
    "    sigla_ue_doador,\n",
    "    numero_partido_doador,\n",
    "    numero_candidato_doador,\n",
    "    cod_setor_economico_do_doador,\n",
    "    setor_economico_do_doador,\n",
    "    data_da_receita,\n",
    "    valor_receita::numeric,\n",
    "    tipo_receita,\n",
    "    fonte_recurso,\n",
    "    especie_recurso,\n",
    "    descricao_da_receita,\n",
    "    cpf_cnpj_do_doador_originario,\n",
    "    nome_do_doador_originario,\n",
    "    tipo_doador_originario,\n",
    "    setor_economico_do_doador_originario,\n",
    "    nome_do_doador_originario_receita_federal\n",
    "\n",
    "from {table_receitas_comites}\n",
    ";\n",
    "\n",
    "update {table_receitas} as r\n",
    "    set tp_registro = 'ROPDO'\n",
    "where cpf_cnpj_do_doador_originario <> '#NULO'\n",
    "and tp_registro = 'ROP'\n",
    "\"\"\"\n",
    "\n",
    "mtse.execute_query(query_insert_receitas_comites)\n",
    "print(\"OK\") "
   ]
  },
  {
   "cell_type": "markdown",
   "metadata": {},
   "source": [
    "Insere os dados de receitas de partidos a partir da tabela receitas partidos do TSE. Os registros são incluidos com código para indicar a origem da receita:\n",
    "- 'RC'   para indicar receita de comitê de doador direto \n",
    "- 'RCDO' para indicar receita de comitê de doador originário"
   ]
  },
  {
   "cell_type": "code",
   "execution_count": null,
   "metadata": {},
   "outputs": [],
   "source": [
    "query_insert_receitas_partidos = f\"\"\"\n",
    "insert into {table_receitas}\n",
    "select   \n",
    "   'ROP',\n",
    "    cod_eleicao,\n",
    "    desc_eleicao,\n",
    "    data_e_hora,\n",
    "    cnpj_prestador_conta,\n",
    "    sequencial_diretorio,\n",
    "    uf,\n",
    "    tipo_diretorio,\n",
    "    sigla__partido,\n",
    "    tipo_do_documento,\n",
    "    '#NE',\n",
    "    '#NE',\n",
    "    '#NE',\n",
    "    '#NE',\n",
    "    '#NE',\n",
    "    numero_do_documento,\n",
    "    cpf_cnpj_do_doador,\n",
    "    nome_do_doador,\n",
    "    nome_do_doador_receita_federal,\n",
    "    sigla_ue_doador,\n",
    "    numero_partido_doador,\n",
    "    numero_candidato_doador,\n",
    "    cod_setor_economico_do_doador,\n",
    "    setor_economico_do_doador,\n",
    "    data_da_receita,\n",
    "    valor_receita::numeric,\n",
    "    tipo_receita,\n",
    "    fonte_recurso,\n",
    "    especie_recurso,\n",
    "    descricao_da_receita,\n",
    "    cpf_cnpj_do_doador_originario,\n",
    "    nome_do_doador_originario,\n",
    "    tipo_doador_originario,\n",
    "    setor_economico_do_doador_originario,\n",
    "    nome_do_doador_originario_receita_federal\n",
    "\n",
    "from {table_receitas_partidos}\n",
    ";\n",
    "\n",
    "update {table_receitas} as r\n",
    "    set tp_registro = 'ROPDO'\n",
    "where cpf_cnpj_do_doador_originario <> '#NULO'\n",
    "and tp_registro = 'ROP'\n",
    ";\n",
    "\"\"\"\n",
    "\n",
    "mtse.execute_query(query_insert_receitas_partidos)\n",
    "print(\"OK\")"
   ]
  }
 ],
 "metadata": {
  "anaconda-cloud": {},
  "kernelspec": {
   "display_name": "Python 3",
   "language": "python",
   "name": "python3"
  },
  "language_info": {
   "codemirror_mode": {
    "name": "ipython",
    "version": 3
   },
   "file_extension": ".py",
   "mimetype": "text/x-python",
   "name": "python",
   "nbconvert_exporter": "python",
   "pygments_lexer": "ipython3",
   "version": "3.7.3"
  }
 },
 "nbformat": 4,
 "nbformat_minor": 4
}
