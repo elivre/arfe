{
 "cells": [
  {
   "cell_type": "markdown",
   "metadata": {},
   "source": [
    "# 005-rede2018_dicionarios"
   ]
  },
  {
   "cell_type": "code",
   "execution_count": 1,
   "metadata": {},
   "outputs": [],
   "source": [
    "ano_eleicao = '2018'\n",
    "dbschema = f'rede{ano_eleicao}'"
   ]
  },
  {
   "cell_type": "code",
   "execution_count": 2,
   "metadata": {},
   "outputs": [],
   "source": [
    "table_origem_receitas =  f'{dbschema}.origem_receitas_{ano_eleicao}'\n",
    "table_fonte_receitas = f'{dbschema}.fonte_receitas_{ano_eleicao}'\n",
    "table_esferas_partidarias = f'{dbschema}.esferas_partidarias_{ano_eleicao}'\n",
    "table_munzona = f\"tse{ano_eleicao}.votacao_candidato_munzona_{ano_eleicao}\"\n",
    "table_consulta_cand = f\"tse{ano_eleicao}.consulta_cand_{ano_eleicao}\"\n",
    "table_municipios = f\"{dbschema}.municipios_{ano_eleicao}\"\n",
    "table_partidos = f\"{dbschema}.partidos_{ano_eleicao}\""
   ]
  },
  {
   "cell_type": "code",
   "execution_count": 3,
   "metadata": {},
   "outputs": [],
   "source": [
    "import os\n",
    "import sys\n",
    "sys.path.append('../')\n",
    "import mod_tse as mtse\n",
    "home = os.environ[\"HOME\"]"
   ]
  },
  {
   "cell_type": "code",
   "execution_count": 4,
   "metadata": {},
   "outputs": [],
   "source": [
    "mtse.execute_query(f'CREATE SCHEMA IF NOT EXISTS {dbschema};')"
   ]
  },
  {
   "cell_type": "markdown",
   "metadata": {},
   "source": [
    "### DICIONÁRIO ORIGEM DAS RECEITAS"
   ]
  },
  {
   "cell_type": "code",
   "execution_count": 5,
   "metadata": {},
   "outputs": [],
   "source": [
    "query_create_table_origem_receitas = f\"\"\"\n",
    "DROP TABLE IF EXISTS {table_origem_receitas} CASCADE;\n",
    "create table {table_origem_receitas} (\n",
    "    cd_origem_receita   varchar, -- codigo\n",
    "    sg_origem_receita   varchar, -- sigla\n",
    "    tx_origem_receita   varchar,  -- descricao textual\n",
    "    ds_origem_receita   varchar   -- descricao padronizada\n",
    "    \n",
    ");\n",
    "\n",
    "CREATE INDEX ON {table_origem_receitas} (cd_origem_receita);\n",
    "CREATE INDEX ON {table_origem_receitas} (sg_origem_receita);\n",
    "CREATE INDEX ON {table_origem_receitas} (ds_origem_receita);\n",
    "CREATE INDEX ON {table_origem_receitas} (tx_origem_receita);\n",
    "\n",
    "insert into {table_origem_receitas}\n",
    "VALUES \n",
    "('10010100','RP','Recursos próprios','Recursos próprios'), \n",
    "('10010200','RPF','Recursos de pessoas físicas','Recursos de pessoas físicas'),\n",
    "('10010300','RPJ','Recursos de pessoas jurídicas','Recursos de pessoas jurídicas'), -- criado para equalizar com 2008\n",
    "('10010400','DPI','Doações pela Internet','Doações pela Internet'),\n",
    "('10010400','DPI', 'RECURSOS DE DOAÇÕES PELA INTERNET','Doações pela Internet'),\n",
    "('10020000','RPP','Recursos de partido político','Recursos de partido político'),\n",
    "('10020500','RFC','Recursos de Financiamento Coletivo','Recursos de Financiamento Coletivo'),\n",
    "('10030100','CBRE','Comercialização de bens ou realização de eventos','Comercialização de bens ou realização de eventos'),\n",
    "('10030100','CBRE','COMERCIALIZAÇÃO DE BENS E/OU REALIZAÇÃO DE EVENTOS','Comercialização de bens ou realização de eventos'),\n",
    "('10030200','RAF','Rendimentos de aplicações financeiras','Rendimentos de aplicações financeiras'),\n",
    "('10030300','RONI','Recursos de origens não identificadas','Recursos de origens não identificadas'),\n",
    "('10040000','ROC','Recursos de outros candidatos','Recursos de outros candidatos'),\n",
    "('10040000','ROC','Recursos de outros candidatos/comitês','Recursos de outros candidatos'),  --descricao de origem de receita usada em 2008\n",
    "('10050000','DRC','DESCRIÇÃO DAS DOAÇÕES RELATIVAS À COMERCIALIZAÇÃO','Doações relativas à comercialização'),\n",
    "('99999999','RONI','ERRO CD_TITULO ESTIMÁVEL NULL','Recursos de origens não identificadas'),\n",
    "('#NE','#NE', 'Informação não registrada','Não identificado')\n",
    ";\n",
    "\"\"\"\n",
    "\n",
    "mtse.execute_query(query_create_table_origem_receitas)"
   ]
  },
  {
   "cell_type": "code",
   "execution_count": null,
   "metadata": {},
   "outputs": [],
   "source": []
  },
  {
   "cell_type": "markdown",
   "metadata": {},
   "source": [
    "### DICIONÁRIO FONTE DAS RECEITAS"
   ]
  },
  {
   "cell_type": "code",
   "execution_count": 6,
   "metadata": {},
   "outputs": [],
   "source": [
    "query_create_table_fonte_receitas = f\"\"\"\n",
    "    DROP TABLE IF EXISTS {table_fonte_receitas} CASCADE;\n",
    "    create table {table_fonte_receitas} (\n",
    "        cd_fonte_receita   varchar, -- codigo\n",
    "        sg_fonte_receita   varchar, -- sigla\n",
    "        tx_fonte_receita   varchar,  -- descricao textual\n",
    "        ds_fonte_receita   varchar\n",
    "    );\n",
    "    CREATE INDEX ON  {table_fonte_receitas}  (cd_fonte_receita);\n",
    "    CREATE INDEX ON  {table_fonte_receitas}  (sg_fonte_receita);\n",
    "    CREATE INDEX ON  {table_fonte_receitas}  (ds_fonte_receita);\n",
    "    CREATE INDEX ON  {table_fonte_receitas}  (tx_fonte_receita);\n",
    "    \n",
    "\n",
    "    insert into {table_fonte_receitas}\n",
    "    VALUES \n",
    "    ('0','FP','Fundo Partidario','Fundo Partidario'), \n",
    "    ('1','OR','Outros Recursos','Outros Recursos'),\n",
    "    ('2','FE','Fundo Especial','Fundo Especial'), \n",
    "    ('1','OR','Nao especificado','Outros Recursos'),\n",
    "    ('1','OR','Outros Recursos nao descritos','Outros Recursos')\n",
    "    ;\n",
    "    \"\"\"\n",
    "\n",
    "mtse.execute_query(query_create_table_fonte_receitas)"
   ]
  },
  {
   "cell_type": "markdown",
   "metadata": {},
   "source": [
    "### DICIONÁRIO DE ESFERAS PARTIDÁRIAS"
   ]
  },
  {
   "cell_type": "code",
   "execution_count": 7,
   "metadata": {},
   "outputs": [],
   "source": [
    "query_create_esferas_partidarias = f\"\"\"\n",
    "DROP TABLE IF EXISTS {table_esferas_partidarias} CASCADE;\n",
    "create table {table_esferas_partidarias} (\n",
    "    tipo                  varchar, \n",
    "    cd                    varchar,\n",
    "    ds                    varchar,\n",
    "    sg                    varchar, \n",
    "    cd_sg                 varchar\n",
    ");\n",
    "\n",
    "CREATE INDEX ON {table_esferas_partidarias} (tipo);\n",
    "CREATE INDEX ON {table_esferas_partidarias} (cd);\n",
    "CREATE INDEX ON {table_esferas_partidarias} (ds);\n",
    "CREATE INDEX ON {table_esferas_partidarias} (sg);\n",
    "CREATE INDEX ON {table_esferas_partidarias} (cd_sg);\n",
    "\n",
    "insert into {table_esferas_partidarias} \n",
    "VALUES \n",
    "    ('Direção Municipal','M','Direção Municipal','DirMun','DM'),\n",
    "    ('Direção Estadual/Distrital','E','Direção Estadual/Distrital','DirEst/Dist','DE'),\n",
    "    ('Direção Nacional','F','Direção Nacional','DirNac','DN'),\n",
    "    ('Federal (Estadual/Distrital)','E','Direção Estadual/Distrital','DirEst','DE'),\n",
    "    ('Municipal','M','Direção Municipal','DirMun','DM'),\n",
    "    ('Direção Municipal/Comissão Provisória','M','Direção Municipal','DirMun','DM'),\n",
    "    ('Nacional','F','Direção Nacional','DirNac','DN'),\n",
    "    ('Comitê Financeiro Único','M','Comitê Financeiro Único','CFU','CFU'),\n",
    "    ('Comitê Financeiro Nacional para Presidente da República','F','Comitê Financeiro Nacional para Presidente da República','CF-Pres','CFP'),\n",
    "    ('Comitê Financeiro Distrital/Estadual para Governador','E','Comitê Financeiro Distrital/Estadual para Governador','CF-Gov','CFG'),\n",
    "    ('Comitê Financeiro Distrital/Estadual para Senador da República','E','Comitê Financeiro Distrital/Estadual para Senador da República','CF-Sen','CFS'),\n",
    "    ('Comitê Financeiro Distrital/Estadual para Deputado Federal','E','Comitê Financeiro Distrital/Estadual para Deputado Federal','CF-DepFed','CFDF'),\n",
    "    ('Comitê Financeiro Distrital/Estadual para Deputado Distrital','E','Comitê Financeiro Distrital/Estadual para Deputado Distrital','CF-DepDist','CFDD'),\n",
    "    ('Comitê Financeiro Distrital/Estadual para Deputado Estadual','E','Comitê Financeiro Distrital/Estadual para Deputado Estadual','CF-DepEst','CFDE')\n",
    ";\n",
    "\"\"\"\n",
    "\n",
    "mtse.execute_query(query_create_esferas_partidarias)"
   ]
  },
  {
   "cell_type": "markdown",
   "metadata": {},
   "source": [
    "### DICIONÁRIO DE MUNICIPIOS"
   ]
  },
  {
   "cell_type": "code",
   "execution_count": 8,
   "metadata": {},
   "outputs": [],
   "source": [
    "create_table_municipios = f\"\"\"\n",
    "DROP TABLE IF EXISTS {table_municipios} CASCADE;\n",
    "CREATE TABLE {table_municipios} (\n",
    "    sg_uf varchar,\n",
    "    cd_municipio varchar,\n",
    "    nm_municipio varchar,\n",
    "    rede         varchar\n",
    ");\n",
    "\n",
    "insert into {table_municipios}\n",
    "select\n",
    "    sg_uf,\n",
    "    cd_municipio,\n",
    "    nm_municipio,\n",
    "    'N'\n",
    "from {table_munzona}\n",
    "group by\n",
    "    sg_uf,\n",
    "    cd_municipio,\n",
    "    nm_municipio\n",
    ";\n",
    "\n",
    "CREATE INDEX ON {table_municipios} (sg_uf);\n",
    "CREATE INDEX ON {table_municipios} (cd_municipio);\n",
    "CREATE INDEX ON {table_municipios} (nm_municipio);\n",
    "\n",
    "\"\"\"\n",
    "\n",
    "mtse.execute_query(create_table_municipios)"
   ]
  },
  {
   "cell_type": "markdown",
   "metadata": {},
   "source": [
    "### DICIONÁRIO DE PARTIDOS"
   ]
  },
  {
   "cell_type": "code",
   "execution_count": 9,
   "metadata": {},
   "outputs": [],
   "source": [
    "query_create_table_partidos = f\"\"\"\n",
    "drop table if exists {table_partidos} cascade;\n",
    "\n",
    "-- Atributos obtidos da tabela do TSE consulta_cand\n",
    "create table {table_partidos}\n",
    "(\n",
    "nr_partido varchar,\n",
    "sg_partido varchar,\n",
    "nm_partido varchar\n",
    ");\n",
    "\n",
    "CREATE INDEX ON {table_partidos} (nr_partido);\n",
    "CREATE INDEX ON {table_partidos} (sg_partido);\n",
    "CREATE INDEX ON {table_partidos} (nm_partido);\n",
    "\n",
    "insert into {table_partidos} \n",
    "( select nr_partido,sg_partido,nm_partido \n",
    "  from {table_consulta_cand}\n",
    "  group by nr_partido,sg_partido,nm_partido  )\n",
    ";\n",
    "\"\"\"\n",
    "mtse.execute_query(query_create_table_partidos)"
   ]
  },
  {
   "cell_type": "code",
   "execution_count": null,
   "metadata": {},
   "outputs": [],
   "source": []
  },
  {
   "cell_type": "code",
   "execution_count": 10,
   "metadata": {},
   "outputs": [
    {
     "name": "stdout",
     "output_type": "stream",
     "text": [
      "2020-10-20 19:21:52.641780\n"
     ]
    }
   ],
   "source": [
    "import datetime\n",
    "print(datetime.datetime.now())"
   ]
  },
  {
   "cell_type": "code",
   "execution_count": null,
   "metadata": {},
   "outputs": [],
   "source": []
  }
 ],
 "metadata": {
  "kernelspec": {
   "display_name": "Python 3",
   "language": "python",
   "name": "python3"
  },
  "language_info": {
   "codemirror_mode": {
    "name": "ipython",
    "version": 3
   },
   "file_extension": ".py",
   "mimetype": "text/x-python",
   "name": "python",
   "nbconvert_exporter": "python",
   "pygments_lexer": "ipython3",
   "version": "3.7.6"
  }
 },
 "nbformat": 4,
 "nbformat_minor": 4
}
