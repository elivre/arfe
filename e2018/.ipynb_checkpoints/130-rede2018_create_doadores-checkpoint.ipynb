{
 "cells": [
  {
   "cell_type": "markdown",
   "metadata": {},
   "source": [
    "### Create doadores 2018"
   ]
  },
  {
   "cell_type": "code",
   "execution_count": 1,
   "metadata": {},
   "outputs": [],
   "source": [
    "ano_eleicao = '2018'"
   ]
  },
  {
   "cell_type": "code",
   "execution_count": 2,
   "metadata": {},
   "outputs": [],
   "source": [
    "import sys\n",
    "sys.path.append('../')\n",
    "import mod_tse as mtse"
   ]
  },
  {
   "cell_type": "code",
   "execution_count": 3,
   "metadata": {},
   "outputs": [],
   "source": [
    "import os\n",
    "home = os.environ[\"HOME\"]\n",
    "dbschema = 'rede'+ano_eleicao\n",
    "local_dir = f'{home}/DADOS_TSE'"
   ]
  },
  {
   "cell_type": "markdown",
   "metadata": {},
   "source": [
    "### DOADORES "
   ]
  },
  {
   "cell_type": "code",
   "execution_count": 24,
   "metadata": {},
   "outputs": [],
   "source": [
    "table_doadores_diretos = f\"\"\"{dbschema}.doadores_diretos_{ano_eleicao}\"\"\"\n",
    "\n",
    "query_create_table_doadores_diretos = f\"\"\"\n",
    "drop table if exists {table_doadores_diretos};\n",
    "\n",
    "CREATE TABLE {table_doadores_diretos}\n",
    "(\n",
    "    cd_cnae_doador varchar,\n",
    "    ds_cnae_doador varchar,\n",
    "    nr_cpf_cnpj_doador varchar,\n",
    "    nm_doador_rfb varchar,\n",
    "    total_doado numeric(18,2)\n",
    ");\n",
    "CREATE INDEX  ON {table_doadores_diretos} ( nr_cpf_cnpj_doador );\n",
    "\n",
    "insert into {table_doadores_diretos}\n",
    "select \n",
    "    cd_cnae_doador,\n",
    "    ds_cnae_doador,\n",
    "    nr_cpf_cnpj_doador,\n",
    "    nm_doador_rfb,\n",
    "    sum(vr_receita) as total_doado\n",
    "from rede2018.receitas_2018\n",
    "where cd_registro in ('RC','RP')\n",
    "group by \n",
    "    cd_cnae_doador,\n",
    "    ds_cnae_doador,\n",
    "    nr_cpf_cnpj_doador,\n",
    "    nm_doador_rfb\n",
    ";\n",
    "\"\"\"\n",
    "\n",
    "mtse.execute_query(query_create_table_doadores_diretos)"
   ]
  },
  {
   "cell_type": "code",
   "execution_count": null,
   "metadata": {},
   "outputs": [],
   "source": []
  },
  {
   "cell_type": "code",
   "execution_count": 25,
   "metadata": {},
   "outputs": [],
   "source": [
    "table_doadores_originarios = f\"\"\"{dbschema}.doadores_originarios_{ano_eleicao}\"\"\"\n",
    "\n",
    "query_create_table_doadores_originarios= f\"\"\"\n",
    "drop table if exists {table_doadores_originarios};\n",
    "\n",
    "CREATE TABLE {table_doadores_originarios}\n",
    "(\n",
    "    cd_cnae_doador varchar,\n",
    "    ds_cnae_doador varchar,\n",
    "    nr_cpf_cnpj_doador varchar,\n",
    "    nm_doador_rfb varchar,\n",
    "    total_doado numeric(18,2)\n",
    ");\n",
    "CREATE INDEX  ON {table_doadores_originarios} ( nr_cpf_cnpj_doador );\n",
    "\n",
    "insert into {table_doadores_originarios}\n",
    "select \n",
    "    cd_cnae_doador_originario,\n",
    "    ds_cnae_doador_originario,\n",
    "    nr_cpf_cnpj_doador_originario,\n",
    "    nm_doador_originario_rfb,\n",
    "    sum(vr_receita) as total_doado\n",
    "from rede2018.receitas_2018\n",
    "where cd_registro in ('RCO','RPO')\n",
    "group by \n",
    "    cd_cnae_doador_originario,\n",
    "    ds_cnae_doador_originario,\n",
    "    nr_cpf_cnpj_doador_originario,\n",
    "    nm_doador_originario_rfb\n",
    ";\n",
    "\"\"\"\n",
    "\n",
    "mtse.execute_query(query_create_table_doadores_originarios)"
   ]
  },
  {
   "cell_type": "markdown",
   "metadata": {},
   "source": [
    "### DOADORES"
   ]
  },
  {
   "cell_type": "code",
   "execution_count": 26,
   "metadata": {},
   "outputs": [],
   "source": [
    "table_doadores = f\"\"\"{dbschema}.doadores_{ano_eleicao}\"\"\"\n",
    "\n",
    "query_create_table_doadores= f\"\"\"\n",
    "drop table if exists {table_doadores};\n",
    "\n",
    "CREATE TABLE {table_doadores}\n",
    "(\n",
    "    cd_cnae_doador varchar,\n",
    "    ds_cnae_doador varchar,\n",
    "    nr_cpf_cnpj_doador varchar,\n",
    "    nm_doador_rfb varchar,\n",
    "    total_doado numeric(18,2)\n",
    ");\n",
    "CREATE INDEX  ON {table_doadores} ( nr_cpf_cnpj_doador );\n",
    "\n",
    "\n",
    "with doadores as \n",
    "(\n",
    "select \n",
    "    cd_cnae_doador,\n",
    "    ds_cnae_doador,\n",
    "    nr_cpf_cnpj_doador,\n",
    "    nm_doador_rfb,\n",
    "    total_doado\n",
    "from rede2018.doadores_diretos_2018\n",
    "union\n",
    "select \n",
    "    cd_cnae_doador,\n",
    "    ds_cnae_doador,\n",
    "    nr_cpf_cnpj_doador,\n",
    "    nm_doador_rfb,\n",
    "    total_doado\n",
    "from rede2018.doadores_originarios_2018\n",
    ") \n",
    "insert into {table_doadores}\n",
    "select \n",
    "    cd_cnae_doador,\n",
    "    ds_cnae_doador,\n",
    "    nr_cpf_cnpj_doador,\n",
    "    nm_doador_rfb,\n",
    "    sum(total_doado) as total_doado\n",
    "from doadores\n",
    "group by \n",
    "    cd_cnae_doador,\n",
    "    ds_cnae_doador,\n",
    "    nr_cpf_cnpj_doador,\n",
    "    nm_doador_rfb\n",
    ";\n",
    "\"\"\"\n",
    "\n",
    "mtse.execute_query(query_create_table_doadores)"
   ]
  },
  {
   "cell_type": "code",
   "execution_count": null,
   "metadata": {},
   "outputs": [],
   "source": [
    " "
   ]
  },
  {
   "cell_type": "code",
   "execution_count": null,
   "metadata": {},
   "outputs": [],
   "source": [
    "query_inclui_colunas = f\"\"\"\n",
    "ALTER TABLE {table_doadores}\n",
    "ADD COLUMN cd_doador varchar;\n",
    "\n",
    "ALTER TABLE {table_doadores}\n",
    "ADD COLUMN tipo_doador varchar;\n",
    "\n",
    "ALTER TABLE {table_doadores}\n",
    "ADD COLUMN grupo_cnpj_doador varchar;\n",
    "\"\"\"\n",
    "mtse.execute_query(query_inclui_colunas)\n",
    "\n",
    "\n"
   ]
  }
 ],
 "metadata": {
  "kernelspec": {
   "display_name": "Python 3",
   "language": "python",
   "name": "python3"
  },
  "language_info": {
   "codemirror_mode": {
    "name": "ipython",
    "version": 3
   },
   "file_extension": ".py",
   "mimetype": "text/x-python",
   "name": "python",
   "nbconvert_exporter": "python",
   "pygments_lexer": "ipython3",
   "version": "3.7.1"
  }
 },
 "nbformat": 4,
 "nbformat_minor": 2
}
