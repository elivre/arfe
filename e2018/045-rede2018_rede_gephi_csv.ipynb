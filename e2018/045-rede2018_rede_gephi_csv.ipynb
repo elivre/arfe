{
 "cells": [
  {
   "cell_type": "markdown",
   "metadata": {},
   "source": [
    "# rede_gephi_csv"
   ]
  },
  {
   "cell_type": "code",
   "execution_count": 1,
   "metadata": {},
   "outputs": [],
   "source": [
    "ano_eleicao = '2018'\n",
    "\n",
    "rede =f'rede{ano_eleicao}'\n",
    "\n",
    "csv_dir = f'/home/neilor/{rede}'"
   ]
  },
  {
   "cell_type": "code",
   "execution_count": 2,
   "metadata": {},
   "outputs": [],
   "source": [
    "dbschema = f'rede{ano_eleicao}'\n",
    "table_gephi_edges = f\"{dbschema}.gephi_edges_{ano_eleicao}\"\n",
    "table_gephi_nodes = f\"{dbschema}.gephi_nodes_{ano_eleicao}\"\n",
    "table_receitas = f\"{dbschema}.receitas_{ano_eleicao}\"\n",
    "table_candidaturas = f\"{dbschema}.candidaturas_{ano_eleicao}\"\n",
    "table_orgaos_partidarios =  f\"{dbschema}.orgaos_partidarios_{ano_eleicao}\"\n",
    "table_municipios = f\"{dbschema}.municipios_{ano_eleicao}\""
   ]
  },
  {
   "cell_type": "code",
   "execution_count": 3,
   "metadata": {},
   "outputs": [],
   "source": [
    "import sys\n",
    "sys.path.append('../')\n",
    "import mod_tse as mtse"
   ]
  },
  {
   "cell_type": "code",
   "execution_count": 4,
   "metadata": {},
   "outputs": [],
   "source": [
    "import os\n",
    "home = os.environ[\"HOME\"]\n",
    "local_dir = f'{home}/temp'"
   ]
  },
  {
   "cell_type": "code",
   "execution_count": 5,
   "metadata": {},
   "outputs": [],
   "source": [
    "mtse.execute_query(f\"update {table_municipios} set rede= 'N';\")"
   ]
  },
  {
   "cell_type": "markdown",
   "metadata": {},
   "source": [
    "## REDE BRASIL"
   ]
  },
  {
   "cell_type": "code",
   "execution_count": 6,
   "metadata": {},
   "outputs": [],
   "source": [
    "def salva_rede_brasil(csv_dir,rede):   \n",
    "    rede_dir_BR = f'{csv_dir}/{rede}_Brasil'\n",
    "    os.makedirs(rede_dir_BR)  \n",
    "\n",
    "    edges_csv_query=f\"\"\"copy\n",
    "                    (\n",
    "                    select * from {table_gephi_edges}\n",
    "                    )\n",
    "                    TO '{rede_dir_BR}/{rede}_Brasil_edges.csv' DELIMITER ';' CSV HEADER;\n",
    "                 \"\"\"       \n",
    "    mtse.execute_query(edges_csv_query)\n",
    "    \n",
    "\n",
    "    nodes_csv_query=f\"\"\"copy\n",
    "                    (\n",
    "                    select * from {table_gephi_nodes}\n",
    "                    )\n",
    "                    TO '{rede_dir_BR}/{rede}_Brasil_nodes.csv' DELIMITER ';' CSV HEADER;\n",
    "                 \"\"\"       \n",
    "    mtse.execute_query(nodes_csv_query)\n",
    "\n",
    "    candidaturas_csv_query=f\"\"\"copy\n",
    "                    (\n",
    "                    select * from {table_candidaturas}\n",
    "                    )\n",
    "                    TO '{rede_dir_BR}/{rede}_Brasil_candidaturas.csv' DELIMITER ';' CSV HEADER;\n",
    "                 \"\"\"       \n",
    "    mtse.execute_query(candidaturas_csv_query)\n",
    "\n",
    "    receitas_csv_query=f\"\"\"copy\n",
    "                    (\n",
    "                    select * from {table_receitas}\n",
    "                    )\n",
    "                    TO '{rede_dir_BR}/{rede}_Brasil_receitas.csv' DELIMITER ';' CSV HEADER;\n",
    "                 \"\"\"    \n",
    "    mtse.execute_query(receitas_csv_query)\n",
    "    "
   ]
  },
  {
   "cell_type": "markdown",
   "metadata": {},
   "source": [
    "## REDES POR ESTADO"
   ]
  },
  {
   "cell_type": "code",
   "execution_count": 7,
   "metadata": {},
   "outputs": [],
   "source": [
    "def salva_rede_csv_uf(csv_dir,rede,sg_uf):   \n",
    "    rede_dir_uf = f'{csv_dir}/{rede}_{sg_uf}'\n",
    "    os.makedirs(rede_dir_uf)  \n",
    "    \n",
    "    edges_query=f\"\"\"copy\n",
    "                    (\n",
    "                    select * from {table_gephi_edges} where  ue ='{sg_uf}'\n",
    "                    )\n",
    "                    TO '{rede_dir_uf}/{rede}_{sg_uf}_edges.csv' DELIMITER ';' CSV HEADER;\n",
    "                 \"\"\"       \n",
    "    mtse.execute_query(edges_query)\n",
    "\n",
    "    nodes_query=f\"\"\"copy\n",
    "                    (\n",
    "                    select * from {table_gephi_nodes} where  ue ='{sg_uf}'\n",
    "                    )\n",
    "                    TO '{rede_dir_uf}/{rede}_{sg_uf}_nodes.csv' DELIMITER ';' CSV HEADER;\n",
    "                 \"\"\"\n",
    "\n",
    "    mtse.execute_query(nodes_query)\n",
    "    \n",
    "    candidaturas_csv_query=f\"\"\"copy\n",
    "                    (\n",
    "                    select * from {table_candidaturas} where  sg_uf ='{sg_uf}'\n",
    "                    )\n",
    "                    TO '{rede_dir_uf}/{rede}_{sg_uf}_candidaturas.csv' DELIMITER ';' CSV HEADER;\n",
    "                 \"\"\"       \n",
    "    mtse.execute_query(candidaturas_csv_query)\n",
    "\n",
    "    receitas_csv_query=f\"\"\"copy\n",
    "                    (\n",
    "                    select * from {table_receitas} where  receptor_uf ='{sg_uf}'\n",
    "                    )\n",
    "                    TO '{rede_dir_uf}/{rede}_{sg_uf}_receitas.csv' DELIMITER ';' CSV HEADER;\n",
    "                 \"\"\"       \n",
    "    mtse.execute_query(receitas_csv_query)\n",
    "    \n"
   ]
  },
  {
   "cell_type": "code",
   "execution_count": 8,
   "metadata": {},
   "outputs": [],
   "source": [
    "import pandas as pd\n",
    "import shutil\n",
    "\n",
    "if os.path.exists(csv_dir):\n",
    "    shutil.rmtree(csv_dir)\n",
    "os.makedirs(csv_dir)  \n",
    " \n",
    "salva_rede_brasil(csv_dir,rede)\n",
    "    \n"
   ]
  },
  {
   "cell_type": "code",
   "execution_count": 9,
   "metadata": {},
   "outputs": [],
   "source": [
    "df_uf = mtse.pandas_query(f'select sg_uf from {table_candidaturas} group by sg_uf order by sg_uf')                         \n",
    "for index, row in df_uf.iterrows():\n",
    "    sg_uf = row['sg_uf']\n",
    "    salva_rede_csv_uf(csv_dir,rede,sg_uf)"
   ]
  },
  {
   "cell_type": "code",
   "execution_count": 10,
   "metadata": {},
   "outputs": [
    {
     "name": "stdout",
     "output_type": "stream",
     "text": [
      "2020-10-20 22:17:15.181311\n"
     ]
    }
   ],
   "source": [
    "import datetime\n",
    "print(datetime.datetime.now())"
   ]
  },
  {
   "cell_type": "code",
   "execution_count": null,
   "metadata": {},
   "outputs": [],
   "source": []
  }
 ],
 "metadata": {
  "kernelspec": {
   "display_name": "Python 3",
   "language": "python",
   "name": "python3"
  },
  "language_info": {
   "codemirror_mode": {
    "name": "ipython",
    "version": 3
   },
   "file_extension": ".py",
   "mimetype": "text/x-python",
   "name": "python",
   "nbconvert_exporter": "python",
   "pygments_lexer": "ipython3",
   "version": "3.7.6"
  }
 },
 "nbformat": 4,
 "nbformat_minor": 4
}
